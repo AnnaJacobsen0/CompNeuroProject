{
 "cells": [
  {
   "attachments": {},
   "cell_type": "markdown",
   "metadata": {},
   "source": [
    "# RNN Memory Model\n",
    "\n",
    "In this workbook, we instantiate, train, and test a series of recurrent neural network (RNN) models of memory. The biological constraints imposed in the models are designed to simulate an abstract memory network, with parameters set to mimic pathological states of excitatory/inhibitory imbalance (e.g., ADHD). The implementation is structured around the `PsychRNN` toolbox [(Ehrlich et al. 2020, *eNeuro*)](https://www.eneuro.org/content/8/1/ENEURO.0427-20.2020).  \n",
    "\n",
    "\n",
    "> **Justin Campbell, Hannah Khelfa, Anna Jacobsen**    \n",
    "> BME 6005: Computational Neuroscience  \n",
    "> Version:   03/15/2023"
   ]
  },
  {
   "attachments": {},
   "cell_type": "markdown",
   "metadata": {},
   "source": [
    "## 1. Import Libraries\n",
    "Words."
   ]
  },
  {
   "cell_type": "code",
   "execution_count": null,
   "metadata": {},
   "outputs": [],
   "source": []
  },
  {
   "cell_type": "markdown",
   "metadata": {},
   "source": []
  },
  {
   "attachments": {},
   "cell_type": "markdown",
   "metadata": {},
   "source": [
    "## 2. Initialize Task & Models\n",
    "Words."
   ]
  },
  {
   "cell_type": "code",
   "execution_count": null,
   "metadata": {},
   "outputs": [],
   "source": []
  },
  {
   "attachments": {},
   "cell_type": "markdown",
   "metadata": {},
   "source": [
    "## 3. Simulate Models\n",
    "Words."
   ]
  },
  {
   "cell_type": "code",
   "execution_count": null,
   "metadata": {},
   "outputs": [],
   "source": []
  },
  {
   "attachments": {},
   "cell_type": "markdown",
   "metadata": {},
   "source": [
    "## 4. Model Characterization\n",
    "Words."
   ]
  },
  {
   "cell_type": "code",
   "execution_count": null,
   "metadata": {},
   "outputs": [
    {
     "ename": "",
     "evalue": "",
     "output_type": "error",
     "traceback": [
      "\u001b[1;31mRunning cells with 'psychrnn' requires the ipykernel package.\n",
      "\u001b[1;31mRun the following command to install 'ipykernel' into the Python environment. \n",
      "\u001b[1;31mCommand: 'conda install -n psychrnn ipykernel --update-deps --force-reinstall'"
     ]
    }
   ],
   "source": [
    "from matplotlib import pyplot as plt\n",
    "%matplotlib inline\n",
    "\n",
    "# ---------------------- Import the package ---------------------------\n",
    "from psychrnn.tasks.perceptual_discrimination import PerceptualDiscrimination\n",
    "from psychrnn.backend.models.basic import Basic\n",
    "\n",
    "# ---------------------- Set up a basic model ---------------------------\n",
    "pd = PerceptualDiscrimination(dt = 10, tau = 100, T = 2000, N_batch = 128)\n",
    "network_params = pd.get_task_params() # get the params passed in and defined in pd\n",
    "network_params['name'] = 'model' # name the model uniquely if running mult models in unison\n",
    "network_params['N_rec'] = 50 # set the number of recurrent units in the model\n",
    "model = Basic(network_params) # instantiate a basic vanilla RNN\n",
    "\n",
    "# ---------------------- Train a basic model ---------------------------\n",
    "model.train(pd) # train model to perform pd task\n",
    "\n",
    "# ---------------------- Test the trained model ---------------------------\n",
    "x,target_output,mask, trial_params = pd.get_trial_batch() # get pd task inputs and outputs\n",
    "model_output, model_state = model.test(x) # run the model on input x\n",
    "\n",
    "# ---------------------- Plot the results ---------------------------\n",
    "plt.plot(model_output[0])\n",
    "\n",
    "# ---------------------- Teardown the model -------------------------\n",
    "# model.destruct()"
   ]
  },
  {
   "cell_type": "code",
   "execution_count": null,
   "metadata": {},
   "outputs": [],
   "source": []
  }
 ],
 "metadata": {
  "kernelspec": {
   "display_name": "psychrnn",
   "language": "python",
   "name": "python3"
  },
  "language_info": {
   "codemirror_mode": {
    "name": "ipython",
    "version": 3
   },
   "file_extension": ".py",
   "mimetype": "text/x-python",
   "name": "python",
   "nbconvert_exporter": "python",
   "pygments_lexer": "ipython3",
   "version": "3.6.15"
  },
  "orig_nbformat": 4
 },
 "nbformat": 4,
 "nbformat_minor": 2
}
